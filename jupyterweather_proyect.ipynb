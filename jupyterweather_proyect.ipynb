{
 "cells": [
  {
   "cell_type": "markdown",
   "id": "dad0c848-5a29-4a2f-adfd-d929c82ff17b",
   "metadata": {},
   "source": [
    "Exploring Weather Trends"
   ]
  },
  {
   "cell_type": "markdown",
   "id": "41d2c304-1b5c-47d4-92d7-7bf1fc780608",
   "metadata": {},
   "source": [
    "SQL query:\n",
    "this is the query that i use:"
   ]
  },
  {
   "cell_type": "code",
   "execution_count": null,
   "id": "60a56b5b-2b08-426b-b277-40ee0b6bf305",
   "metadata": {},
   "outputs": [],
   "source": [
    "#SELECT glo.year, glo.avg_temp as temp,city.year,city.city,city.country,city.avg_temp as tempo\n",
    "#FROM global_data glo, city_data city\n",
    "#where city = 'Cali' and city.avg_temp IS NOT NULL"
   ]
  },
  {
   "cell_type": "code",
   "execution_count": 78,
   "id": "199f954b-5d45-4124-a922-723a7c284df7",
   "metadata": {},
   "outputs": [],
   "source": [
    "import pandas as pd\n",
    "import numpy as np\n",
    "import matplotlib.pyplot as plt\n",
    "import seaborn as sns\n",
    "from numpy import nan"
   ]
  },
  {
   "cell_type": "markdown",
   "id": "f1dffcee-2d49-4294-bbbf-39c3be373f16",
   "metadata": {},
   "source": [
    "INTRODUCTION"
   ]
  },
  {
   "cell_type": "markdown",
   "id": "ea20b357-67e0-48d6-9a5f-5fa8b9a67a29",
   "metadata": {},
   "source": [
    "in this database i have selected using SQL a wide range of data such as temperature year city and country, every variable has a trouly and verified information. I'm gonna explain and relate the temperature from my city and from the world, after that,i'm gonna explain which conclusion we might find form this very huge dataframe, starting from some relevant question  such as:\n",
    "\n",
    "1- Is the temperature of the city increase during years?\n",
    "2- Is the  concerned city warmer than the global mean? \n",
    "3- Trough the years the temparture have had abrupted changes in the concerned city?\n",
    "4- Is the global temperature having enormous changes?\n",
    "\n",
    "Variables explanation:\n",
    "Year -- city year\n",
    "Temp -- global temperature\n",
    "City -- concerned city 'Cali'\n",
    "Country -- concerned country \"Colombia\"\n",
    "Tempo -- city Temperature\n",
    "\n"
   ]
  },
  {
   "cell_type": "code",
   "execution_count": 46,
   "id": "78b6d765-9866-4edc-8eba-9e9c657b8451",
   "metadata": {},
   "outputs": [],
   "source": [
    "df= pd.read_csv('results.csv')"
   ]
  },
  {
   "cell_type": "markdown",
   "id": "96085e3f-e777-409c-a25d-d10968075498",
   "metadata": {},
   "source": [
    "DATA WRANGLING"
   ]
  },
  {
   "cell_type": "code",
   "execution_count": 47,
   "id": "9d491809-aeac-4c31-b65e-de9cd4543a45",
   "metadata": {},
   "outputs": [
    {
     "name": "stdout",
     "output_type": "stream",
     "text": [
      "<class 'pandas.core.frame.DataFrame'>\n",
      "RangeIndex: 44422 entries, 0 to 44421\n",
      "Data columns (total 6 columns):\n",
      " #   Column   Non-Null Count  Dtype  \n",
      "---  ------   --------------  -----  \n",
      " 0   year     44422 non-null  int64  \n",
      " 1   temp     44422 non-null  float64\n",
      " 2   year.1   44422 non-null  int64  \n",
      " 3   city     44422 non-null  object \n",
      " 4   country  44422 non-null  object \n",
      " 5   tempo    44422 non-null  float64\n",
      "dtypes: float64(2), int64(2), object(2)\n",
      "memory usage: 2.0+ MB\n"
     ]
    }
   ],
   "source": [
    "df.info()"
   ]
  },
  {
   "cell_type": "code",
   "execution_count": 48,
   "id": "56a613b5-d256-4b61-9391-b9bd67c01a62",
   "metadata": {},
   "outputs": [],
   "source": [
    "df.drop(['year.1'], axis =1,inplace=True)"
   ]
  },
  {
   "cell_type": "code",
   "execution_count": 49,
   "id": "673e73ed-58ca-4fb8-b9f0-9bcc45171c82",
   "metadata": {},
   "outputs": [
    {
     "data": {
      "text/plain": [
       "year       0\n",
       "temp       0\n",
       "city       0\n",
       "country    0\n",
       "tempo      0\n",
       "dtype: int64"
      ]
     },
     "execution_count": 49,
     "metadata": {},
     "output_type": "execute_result"
    }
   ],
   "source": [
    "df.isnull().sum()"
   ]
  },
  {
   "cell_type": "code",
   "execution_count": 50,
   "id": "79098a70-23de-4ccc-9eaa-fc31f9e45a11",
   "metadata": {},
   "outputs": [
    {
     "data": {
      "text/html": [
       "<div>\n",
       "<style scoped>\n",
       "    .dataframe tbody tr th:only-of-type {\n",
       "        vertical-align: middle;\n",
       "    }\n",
       "\n",
       "    .dataframe tbody tr th {\n",
       "        vertical-align: top;\n",
       "    }\n",
       "\n",
       "    .dataframe thead th {\n",
       "        text-align: right;\n",
       "    }\n",
       "</style>\n",
       "<table border=\"1\" class=\"dataframe\">\n",
       "  <thead>\n",
       "    <tr style=\"text-align: right;\">\n",
       "      <th></th>\n",
       "      <th>year</th>\n",
       "      <th>temp</th>\n",
       "      <th>city</th>\n",
       "      <th>country</th>\n",
       "      <th>tempo</th>\n",
       "    </tr>\n",
       "  </thead>\n",
       "  <tbody>\n",
       "    <tr>\n",
       "      <th>0</th>\n",
       "      <td>1825</td>\n",
       "      <td>8.72</td>\n",
       "      <td>Cali</td>\n",
       "      <td>Colombia</td>\n",
       "      <td>21.73</td>\n",
       "    </tr>\n",
       "    <tr>\n",
       "      <th>1</th>\n",
       "      <td>1826</td>\n",
       "      <td>8.72</td>\n",
       "      <td>Cali</td>\n",
       "      <td>Colombia</td>\n",
       "      <td>21.64</td>\n",
       "    </tr>\n",
       "    <tr>\n",
       "      <th>2</th>\n",
       "      <td>1827</td>\n",
       "      <td>8.72</td>\n",
       "      <td>Cali</td>\n",
       "      <td>Colombia</td>\n",
       "      <td>22.01</td>\n",
       "    </tr>\n",
       "    <tr>\n",
       "      <th>3</th>\n",
       "      <td>1828</td>\n",
       "      <td>8.72</td>\n",
       "      <td>Cali</td>\n",
       "      <td>Colombia</td>\n",
       "      <td>21.46</td>\n",
       "    </tr>\n",
       "    <tr>\n",
       "      <th>4</th>\n",
       "      <td>1829</td>\n",
       "      <td>8.72</td>\n",
       "      <td>Cali</td>\n",
       "      <td>Colombia</td>\n",
       "      <td>21.30</td>\n",
       "    </tr>\n",
       "  </tbody>\n",
       "</table>\n",
       "</div>"
      ],
      "text/plain": [
       "   year  temp  city   country  tempo\n",
       "0  1825  8.72  Cali  Colombia  21.73\n",
       "1  1826  8.72  Cali  Colombia  21.64\n",
       "2  1827  8.72  Cali  Colombia  22.01\n",
       "3  1828  8.72  Cali  Colombia  21.46\n",
       "4  1829  8.72  Cali  Colombia  21.30"
      ]
     },
     "execution_count": 50,
     "metadata": {},
     "output_type": "execute_result"
    }
   ],
   "source": [
    "df.head()"
   ]
  },
  {
   "cell_type": "code",
   "execution_count": 54,
   "id": "3211a7b7-dab2-422b-85c0-064a972a10eb",
   "metadata": {},
   "outputs": [
    {
     "data": {
      "text/plain": [
       "count    44422.000000\n",
       "mean         8.369474\n",
       "std          0.583654\n",
       "min          5.780000\n",
       "25%          8.080000\n",
       "50%          8.375000\n",
       "75%          8.710000\n",
       "max          9.830000\n",
       "Name: temp, dtype: float64"
      ]
     },
     "execution_count": 54,
     "metadata": {},
     "output_type": "execute_result"
    }
   ],
   "source": [
    "df[\"temp\"].describe()"
   ]
  },
  {
   "cell_type": "code",
   "execution_count": 55,
   "id": "b4aaec70-d1c8-42b5-abe4-b6d4be9114c0",
   "metadata": {},
   "outputs": [
    {
     "data": {
      "text/plain": [
       "count    44413.000000\n",
       "mean         8.369290\n",
       "std          0.581948\n",
       "min          5.780000\n",
       "25%          8.080000\n",
       "50%          8.373000\n",
       "75%          8.710000\n",
       "max          9.830000\n",
       "Name: temp, dtype: float64"
      ]
     },
     "execution_count": 55,
     "metadata": {},
     "output_type": "execute_result"
    }
   ],
   "source": [
    "df[\"temp\"].rolling(window=10).mean().describe()"
   ]
  },
  {
   "cell_type": "code",
   "execution_count": 56,
   "id": "ef28624b-b088-4781-9ace-6925063c178e",
   "metadata": {},
   "outputs": [
    {
     "data": {
      "text/html": [
       "<div>\n",
       "<style scoped>\n",
       "    .dataframe tbody tr th:only-of-type {\n",
       "        vertical-align: middle;\n",
       "    }\n",
       "\n",
       "    .dataframe tbody tr th {\n",
       "        vertical-align: top;\n",
       "    }\n",
       "\n",
       "    .dataframe thead th {\n",
       "        text-align: right;\n",
       "    }\n",
       "</style>\n",
       "<table border=\"1\" class=\"dataframe\">\n",
       "  <thead>\n",
       "    <tr style=\"text-align: right;\">\n",
       "      <th></th>\n",
       "      <th>year</th>\n",
       "      <th>temp</th>\n",
       "      <th>tempo</th>\n",
       "    </tr>\n",
       "  </thead>\n",
       "  <tbody>\n",
       "    <tr>\n",
       "      <th>count</th>\n",
       "      <td>44422.000000</td>\n",
       "      <td>44422.000000</td>\n",
       "      <td>44422.000000</td>\n",
       "    </tr>\n",
       "    <tr>\n",
       "      <th>mean</th>\n",
       "      <td>1929.341317</td>\n",
       "      <td>8.369474</td>\n",
       "      <td>21.793713</td>\n",
       "    </tr>\n",
       "    <tr>\n",
       "      <th>std</th>\n",
       "      <td>49.445109</td>\n",
       "      <td>0.583654</td>\n",
       "      <td>0.508212</td>\n",
       "    </tr>\n",
       "    <tr>\n",
       "      <th>min</th>\n",
       "      <td>1825.000000</td>\n",
       "      <td>5.780000</td>\n",
       "      <td>20.740000</td>\n",
       "    </tr>\n",
       "    <tr>\n",
       "      <th>25%</th>\n",
       "      <td>1888.000000</td>\n",
       "      <td>8.080000</td>\n",
       "      <td>21.430000</td>\n",
       "    </tr>\n",
       "    <tr>\n",
       "      <th>50%</th>\n",
       "      <td>1930.000000</td>\n",
       "      <td>8.375000</td>\n",
       "      <td>21.730000</td>\n",
       "    </tr>\n",
       "    <tr>\n",
       "      <th>75%</th>\n",
       "      <td>1972.000000</td>\n",
       "      <td>8.710000</td>\n",
       "      <td>22.120000</td>\n",
       "    </tr>\n",
       "    <tr>\n",
       "      <th>max</th>\n",
       "      <td>2013.000000</td>\n",
       "      <td>9.830000</td>\n",
       "      <td>23.070000</td>\n",
       "    </tr>\n",
       "  </tbody>\n",
       "</table>\n",
       "</div>"
      ],
      "text/plain": [
       "               year          temp         tempo\n",
       "count  44422.000000  44422.000000  44422.000000\n",
       "mean    1929.341317      8.369474     21.793713\n",
       "std       49.445109      0.583654      0.508212\n",
       "min     1825.000000      5.780000     20.740000\n",
       "25%     1888.000000      8.080000     21.430000\n",
       "50%     1930.000000      8.375000     21.730000\n",
       "75%     1972.000000      8.710000     22.120000\n",
       "max     2013.000000      9.830000     23.070000"
      ]
     },
     "execution_count": 56,
     "metadata": {},
     "output_type": "execute_result"
    }
   ],
   "source": [
    "df.describe()\n",
    "#We have started with this quickly resume to understand in a generic form the current temperature situation."
   ]
  },
  {
   "cell_type": "markdown",
   "id": "e9392925-399e-44ca-a1ba-598aceeafa86",
   "metadata": {
    "tags": []
   },
   "source": [
    "We can appreciate from the graph above that there are no NULL values and all the generic values are inside an optimum range.\n",
    "The mean is realistic and max temp is also verified."
   ]
  },
  {
   "cell_type": "code",
   "execution_count": 57,
   "id": "87a7d389-d4a8-4483-b409-621015c2e163",
   "metadata": {},
   "outputs": [
    {
     "data": {
      "text/plain": [
       "44422"
      ]
     },
     "execution_count": 57,
     "metadata": {},
     "output_type": "execute_result"
    }
   ],
   "source": [
    "df['temp'].count()"
   ]
  },
  {
   "cell_type": "code",
   "execution_count": 58,
   "id": "43d6e1c6-955b-408c-830b-fd0da4de88c7",
   "metadata": {},
   "outputs": [
    {
     "data": {
      "text/html": [
       "<div>\n",
       "<style scoped>\n",
       "    .dataframe tbody tr th:only-of-type {\n",
       "        vertical-align: middle;\n",
       "    }\n",
       "\n",
       "    .dataframe tbody tr th {\n",
       "        vertical-align: top;\n",
       "    }\n",
       "\n",
       "    .dataframe thead th {\n",
       "        text-align: right;\n",
       "    }\n",
       "</style>\n",
       "<table border=\"1\" class=\"dataframe\">\n",
       "  <thead>\n",
       "    <tr style=\"text-align: right;\">\n",
       "      <th></th>\n",
       "      <th>temp</th>\n",
       "      <th>tempo</th>\n",
       "    </tr>\n",
       "    <tr>\n",
       "      <th>year</th>\n",
       "      <th></th>\n",
       "      <th></th>\n",
       "    </tr>\n",
       "  </thead>\n",
       "  <tbody>\n",
       "    <tr>\n",
       "      <th>1825</th>\n",
       "      <td>8.72</td>\n",
       "      <td>21.73</td>\n",
       "    </tr>\n",
       "    <tr>\n",
       "      <th>1826</th>\n",
       "      <td>8.72</td>\n",
       "      <td>21.64</td>\n",
       "    </tr>\n",
       "    <tr>\n",
       "      <th>1827</th>\n",
       "      <td>8.72</td>\n",
       "      <td>22.01</td>\n",
       "    </tr>\n",
       "    <tr>\n",
       "      <th>1828</th>\n",
       "      <td>8.72</td>\n",
       "      <td>21.46</td>\n",
       "    </tr>\n",
       "    <tr>\n",
       "      <th>1829</th>\n",
       "      <td>8.72</td>\n",
       "      <td>21.30</td>\n",
       "    </tr>\n",
       "    <tr>\n",
       "      <th>...</th>\n",
       "      <td>...</td>\n",
       "      <td>...</td>\n",
       "    </tr>\n",
       "    <tr>\n",
       "      <th>2009</th>\n",
       "      <td>9.83</td>\n",
       "      <td>22.87</td>\n",
       "    </tr>\n",
       "    <tr>\n",
       "      <th>2010</th>\n",
       "      <td>9.83</td>\n",
       "      <td>22.68</td>\n",
       "    </tr>\n",
       "    <tr>\n",
       "      <th>2011</th>\n",
       "      <td>9.83</td>\n",
       "      <td>22.33</td>\n",
       "    </tr>\n",
       "    <tr>\n",
       "      <th>2012</th>\n",
       "      <td>9.83</td>\n",
       "      <td>22.58</td>\n",
       "    </tr>\n",
       "    <tr>\n",
       "      <th>2013</th>\n",
       "      <td>9.83</td>\n",
       "      <td>22.85</td>\n",
       "    </tr>\n",
       "  </tbody>\n",
       "</table>\n",
       "<p>44422 rows × 2 columns</p>\n",
       "</div>"
      ],
      "text/plain": [
       "      temp  tempo\n",
       "year             \n",
       "1825  8.72  21.73\n",
       "1826  8.72  21.64\n",
       "1827  8.72  22.01\n",
       "1828  8.72  21.46\n",
       "1829  8.72  21.30\n",
       "...    ...    ...\n",
       "2009  9.83  22.87\n",
       "2010  9.83  22.68\n",
       "2011  9.83  22.33\n",
       "2012  9.83  22.58\n",
       "2013  9.83  22.85\n",
       "\n",
       "[44422 rows x 2 columns]"
      ]
     },
     "execution_count": 58,
     "metadata": {},
     "output_type": "execute_result"
    }
   ],
   "source": [
    "df1=df.set_index('year')\n",
    "df1.drop(['city','country'], axis =1,inplace=False)\n"
   ]
  },
  {
   "cell_type": "code",
   "execution_count": 59,
   "id": "d0e91b15-1a48-4f33-a725-ed51a06b80fb",
   "metadata": {},
   "outputs": [
    {
     "data": {
      "text/html": [
       "<div>\n",
       "<style scoped>\n",
       "    .dataframe tbody tr th:only-of-type {\n",
       "        vertical-align: middle;\n",
       "    }\n",
       "\n",
       "    .dataframe tbody tr th {\n",
       "        vertical-align: top;\n",
       "    }\n",
       "\n",
       "    .dataframe thead th {\n",
       "        text-align: right;\n",
       "    }\n",
       "</style>\n",
       "<table border=\"1\" class=\"dataframe\">\n",
       "  <thead>\n",
       "    <tr style=\"text-align: right;\">\n",
       "      <th></th>\n",
       "      <th>temp</th>\n",
       "      <th>avg_temp_glo</th>\n",
       "    </tr>\n",
       "    <tr>\n",
       "      <th>year</th>\n",
       "      <th></th>\n",
       "      <th></th>\n",
       "    </tr>\n",
       "  </thead>\n",
       "  <tbody>\n",
       "    <tr>\n",
       "      <th>2009</th>\n",
       "      <td>9.83</td>\n",
       "      <td>8.369058</td>\n",
       "    </tr>\n",
       "    <tr>\n",
       "      <th>2010</th>\n",
       "      <td>9.83</td>\n",
       "      <td>8.369083</td>\n",
       "    </tr>\n",
       "    <tr>\n",
       "      <th>2011</th>\n",
       "      <td>9.83</td>\n",
       "      <td>8.369108</td>\n",
       "    </tr>\n",
       "    <tr>\n",
       "      <th>2012</th>\n",
       "      <td>9.83</td>\n",
       "      <td>8.369133</td>\n",
       "    </tr>\n",
       "    <tr>\n",
       "      <th>2013</th>\n",
       "      <td>9.83</td>\n",
       "      <td>8.369158</td>\n",
       "    </tr>\n",
       "  </tbody>\n",
       "</table>\n",
       "</div>"
      ],
      "text/plain": [
       "      temp  avg_temp_glo\n",
       "year                    \n",
       "2009  9.83      8.369058\n",
       "2010  9.83      8.369083\n",
       "2011  9.83      8.369108\n",
       "2012  9.83      8.369133\n",
       "2013  9.83      8.369158"
      ]
     },
     "execution_count": 59,
     "metadata": {},
     "output_type": "execute_result"
    }
   ],
   "source": [
    "df2 = df1['temp'].to_frame()  \n",
    "df2['avg_temp_glo'] = df2['temp'].rolling(44382).mean()\n",
    "df2.dropna(inplace=True)\n",
    "df2.tail(5)"
   ]
  },
  {
   "cell_type": "code",
   "execution_count": 60,
   "id": "b320ca63-d2b6-4a0c-8336-f9f0c094e54d",
   "metadata": {},
   "outputs": [
    {
     "data": {
      "text/html": [
       "<div>\n",
       "<style scoped>\n",
       "    .dataframe tbody tr th:only-of-type {\n",
       "        vertical-align: middle;\n",
       "    }\n",
       "\n",
       "    .dataframe tbody tr th {\n",
       "        vertical-align: top;\n",
       "    }\n",
       "\n",
       "    .dataframe thead th {\n",
       "        text-align: right;\n",
       "    }\n",
       "</style>\n",
       "<table border=\"1\" class=\"dataframe\">\n",
       "  <thead>\n",
       "    <tr style=\"text-align: right;\">\n",
       "      <th></th>\n",
       "      <th>tempo</th>\n",
       "      <th>avg_temp_city</th>\n",
       "    </tr>\n",
       "    <tr>\n",
       "      <th>year</th>\n",
       "      <th></th>\n",
       "      <th></th>\n",
       "    </tr>\n",
       "  </thead>\n",
       "  <tbody>\n",
       "    <tr>\n",
       "      <th>1973</th>\n",
       "      <td>22.10</td>\n",
       "      <td>21.793186</td>\n",
       "    </tr>\n",
       "    <tr>\n",
       "      <th>1974</th>\n",
       "      <td>21.62</td>\n",
       "      <td>21.793183</td>\n",
       "    </tr>\n",
       "    <tr>\n",
       "      <th>1975</th>\n",
       "      <td>21.53</td>\n",
       "      <td>21.793181</td>\n",
       "    </tr>\n",
       "    <tr>\n",
       "      <th>1976</th>\n",
       "      <td>22.08</td>\n",
       "      <td>21.793182</td>\n",
       "    </tr>\n",
       "    <tr>\n",
       "      <th>1977</th>\n",
       "      <td>22.41</td>\n",
       "      <td>21.793204</td>\n",
       "    </tr>\n",
       "  </tbody>\n",
       "</table>\n",
       "</div>"
      ],
      "text/plain": [
       "      tempo  avg_temp_city\n",
       "year                      \n",
       "1973  22.10      21.793186\n",
       "1974  21.62      21.793183\n",
       "1975  21.53      21.793181\n",
       "1976  22.08      21.793182\n",
       "1977  22.41      21.793204"
      ]
     },
     "execution_count": 60,
     "metadata": {},
     "output_type": "execute_result"
    }
   ],
   "source": [
    "df3 = df1['tempo'].to_frame()  \n",
    "df3['avg_temp_city'] = df3['tempo'].rolling(44382).mean()\n",
    "df3.dropna(inplace=True)\n",
    "df3.head(5)"
   ]
  },
  {
   "cell_type": "code",
   "execution_count": 61,
   "id": "4386b825-79e0-4e72-8fd3-2d7a2a5199df",
   "metadata": {},
   "outputs": [
    {
     "data": {
      "text/html": [
       "<div>\n",
       "<style scoped>\n",
       "    .dataframe tbody tr th:only-of-type {\n",
       "        vertical-align: middle;\n",
       "    }\n",
       "\n",
       "    .dataframe tbody tr th {\n",
       "        vertical-align: top;\n",
       "    }\n",
       "\n",
       "    .dataframe thead th {\n",
       "        text-align: right;\n",
       "    }\n",
       "</style>\n",
       "<table border=\"1\" class=\"dataframe\">\n",
       "  <thead>\n",
       "    <tr style=\"text-align: right;\">\n",
       "      <th></th>\n",
       "      <th>tempo</th>\n",
       "      <th>avg_temp_city</th>\n",
       "      <th>temp</th>\n",
       "      <th>avg_temp_glo</th>\n",
       "    </tr>\n",
       "    <tr>\n",
       "      <th>year</th>\n",
       "      <th></th>\n",
       "      <th></th>\n",
       "      <th></th>\n",
       "      <th></th>\n",
       "    </tr>\n",
       "  </thead>\n",
       "  <tbody>\n",
       "    <tr>\n",
       "      <th>2009</th>\n",
       "      <td>22.87</td>\n",
       "      <td>21.793947</td>\n",
       "      <td>9.83</td>\n",
       "      <td>8.369058</td>\n",
       "    </tr>\n",
       "    <tr>\n",
       "      <th>2010</th>\n",
       "      <td>22.68</td>\n",
       "      <td>21.793987</td>\n",
       "      <td>9.83</td>\n",
       "      <td>8.369083</td>\n",
       "    </tr>\n",
       "    <tr>\n",
       "      <th>2011</th>\n",
       "      <td>22.33</td>\n",
       "      <td>21.794018</td>\n",
       "      <td>9.83</td>\n",
       "      <td>8.369108</td>\n",
       "    </tr>\n",
       "    <tr>\n",
       "      <th>2012</th>\n",
       "      <td>22.58</td>\n",
       "      <td>21.794047</td>\n",
       "      <td>9.83</td>\n",
       "      <td>8.369133</td>\n",
       "    </tr>\n",
       "    <tr>\n",
       "      <th>2013</th>\n",
       "      <td>22.85</td>\n",
       "      <td>21.794082</td>\n",
       "      <td>9.83</td>\n",
       "      <td>8.369158</td>\n",
       "    </tr>\n",
       "  </tbody>\n",
       "</table>\n",
       "</div>"
      ],
      "text/plain": [
       "      tempo  avg_temp_city  temp  avg_temp_glo\n",
       "year                                          \n",
       "2009  22.87      21.793947  9.83      8.369058\n",
       "2010  22.68      21.793987  9.83      8.369083\n",
       "2011  22.33      21.794018  9.83      8.369108\n",
       "2012  22.58      21.794047  9.83      8.369133\n",
       "2013  22.85      21.794082  9.83      8.369158"
      ]
     },
     "execution_count": 61,
     "metadata": {},
     "output_type": "execute_result"
    }
   ],
   "source": [
    "df4 = pd.concat([df3, df2],axis=1)\n",
    "df4.tail(5)"
   ]
  },
  {
   "cell_type": "code",
   "execution_count": 74,
   "id": "0628997b-e1f9-4b6b-9c74-126582ef534f",
   "metadata": {},
   "outputs": [
    {
     "data": {
      "image/png": "[encoded data removed]",
      "text/plain": [
       "<Figure size 900x700 with 1 Axes>"
      ]
     },
     "metadata": {
      "needs_background": "light"
     },
     "output_type": "display_data"
    }
   ],
   "source": [
    "plt.figure(figsize=(9,7), dpi=100)\n",
    "plt.plot(y,'go-')\n",
    "plt.xlabel(\"year\")\n",
    "plt.ylabel(\"temperature\")\n",
    "plt.legend([\"Temperature\"])\n",
    "plt.title('Temperature vs year')\n",
    "plt.grid(True)"
   ]
  },
  {
   "cell_type": "markdown",
   "id": "3f5c5845-8430-45c9-8c9c-e287f7ca138c",
   "metadata": {},
   "source": [
    "As we can see in the above diagram, the Temperature went down until 1875 and then it increasing through the years."
   ]
  },
  {
   "cell_type": "code",
   "execution_count": 77,
   "id": "424e78fb-873b-4949-ae16-76163765a9a3",
   "metadata": {},
   "outputs": [
    {
     "data": {
      "image/png": "[encoded data removed]",
      "text/plain": [
       "<Figure size 900x700 with 1 Axes>"
      ]
     },
     "metadata": {
      "needs_background": "light"
     },
     "output_type": "display_data"
    }
   ],
   "source": [
    "plt.figure(figsize=(9,7), dpi=100)\n",
    "plt.plot(x,'go-')\n",
    "plt.xlabel(\"year\")\n",
    "plt.ylabel(\"temperature\")\n",
    "plt.legend([\"Temperature\"])\n",
    "plt.title('Temperature vs year')\n",
    "plt.grid(True)"
   ]
  },
  {
   "cell_type": "markdown",
   "id": "0313578e-9fdf-427c-9777-d1262abda549",
   "metadata": {},
   "source": [
    "In this graphic above we can se that the global temperature increase smoothly trough the years."
   ]
  },
  {
   "cell_type": "markdown",
   "id": "1e646e27-73e7-482c-b79d-053ef7a90d72",
   "metadata": {},
   "source": [
    "EXPLORATION PHASE\n",
    "QUESTION 1:"
   ]
  },
  {
   "cell_type": "code",
   "execution_count": 62,
   "id": "97c0a41b-5cd2-4ddb-9fec-f9d4dfc8aabc",
   "metadata": {},
   "outputs": [
    {
     "data": {
      "text/plain": [
       "<AxesSubplot:xlabel='year'>"
      ]
     },
     "execution_count": 62,
     "metadata": {},
     "output_type": "execute_result"
    },
    {
     "data": {
      "image/png": "[encoded data removed]",
      "text/plain": [
       "<Figure size 1152x576 with 1 Axes>"
      ]
     },
     "metadata": {
      "needs_background": "light"
     },
     "output_type": "display_data"
    }
   ],
   "source": [
    "df4[['avg_temp_city', 'avg_temp_glo']].plot(label='temperature vs year',figsize=(16, 8))\n"
   ]
  },
  {
   "cell_type": "markdown",
   "id": "0f01d2ef-d717-4b20-af70-b0366621cefc",
   "metadata": {},
   "source": [
    "In this graphic we can check that moving averege of the city temperature and the global temperature. with a window of 40 years."
   ]
  },
  {
   "cell_type": "code",
   "execution_count": 73,
   "id": "72524328-b424-42c7-8105-07a428400495",
   "metadata": {},
   "outputs": [
    {
     "data": {
      "text/plain": [
       "Text(0, 0.5, 'temperature')"
      ]
     },
     "execution_count": 73,
     "metadata": {},
     "output_type": "execute_result"
    },
    {
     "data": {
      "image/png": "[encoded data removed]",
      "text/plain": [
       "<Figure size 720x432 with 1 Axes>"
      ]
     },
     "metadata": {
      "needs_background": "light"
     },
     "output_type": "display_data"
    }
   ],
   "source": [
    "#temperature over mean\n",
    "df['temp'].plot(figsize=(10,6))\n",
    "df['temp'].rolling(window =400).mean().plot()\n",
    "plt.title('relation between true temp and mean temp')\n",
    "plt.ylabel('temperature')"
   ]
  },
  {
   "cell_type": "markdown",
   "id": "802e0913-8d82-48ef-afaf-b7b2055b1ae9",
   "metadata": {},
   "source": [
    "In this graph we can see the mean of the global temperature related with the trouly information of temperature in the dataset, with somwe null values."
   ]
  },
  {
   "cell_type": "code",
   "execution_count": 66,
   "id": "07d183e7-bf49-4e05-aafd-22ec698b91ae",
   "metadata": {},
   "outputs": [],
   "source": [
    "x=df4['avg_temp_city']\n",
    "y=df4['avg_temp_glo']\n",
    "z=df['year']"
   ]
  },
  {
   "cell_type": "markdown",
   "id": "0dfa0962-58b2-45d1-86e7-2a63984ccc36",
   "metadata": {},
   "source": [
    "Now in this case we can notice that the global temperature increased more or less from 5.5 C° up to almost 10C°, and the temperature in cali have a smaller variation from 21C° up to 23C°, an increment of 2 C°. Also the temperature in Cali increased with a lot of gaps (variation) compared to the rest of the world."
   ]
  },
  {
   "cell_type": "code",
   "execution_count": 43,
   "id": "91041a02-7013-4764-97bf-092b758c7d19",
   "metadata": {},
   "outputs": [
    {
     "data": {
      "image/png": "[encoded data removed]",
      "text/plain": [
       "<Figure size 432x288 with 1 Axes>"
      ]
     },
     "metadata": {
      "needs_background": "light"
     },
     "output_type": "display_data"
    }
   ],
   "source": [
    "N = 41\n",
    "colors = np.random.rand(N)\n",
    "area = (40 * np.random.rand(N))**2  # 0 to 15 point radii\n",
    "plt.title(\"Temperature over last 40 years\")\n",
    "plt.xlabel(\"Years\")\n",
    "plt.ylabel(\"Temperature\")\n",
    "plt.scatter(x, y, c=colors, alpha=0.5)\n",
    "plt.show()"
   ]
  },
  {
   "cell_type": "markdown",
   "id": "815a549b-2350-4157-963c-48ecf64487d8",
   "metadata": {},
   "source": [
    "we can also conclude that is there a relevant correlation between temperature and year, the temparature increse over the time as we can see in the graphic."
   ]
  },
  {
   "cell_type": "markdown",
   "id": "83f91b6e-d196-44e8-ae62-558a754a91c8",
   "metadata": {},
   "source": [
    "CONCLUSIONS"
   ]
  },
  {
   "cell_type": "markdown",
   "id": "68bf2452-d9dc-41dd-a056-ea5fe14c82a2",
   "metadata": {},
   "source": [
    "As we can see from the graphics above we can conclude that: \n",
    "1-over the years the temperature have been increased a lot.\n",
    "2-The city in question the temperature increased just 2 degrees, this could be related due to the geographic condition, the undeveloped industry infrastructure and the low rate of vehicles compared to the rest of the world.\n",
    "3-Global temperature increased a lot up to almost 5.5C° during the years due to the globalization and the consumerism.\n",
    "4-The increasing rate of temperature is linear in the last graph.\n",
    "5-The relationwe can find on the graph with the average global temperature and the average city temperature is that the mean of the temperature is more or less stabilized and linear, so during the years the growth rate is constant.   "
   ]
  },
  {
   "cell_type": "markdown",
   "id": "d42a4677-5a79-4fbb-86b9-bc12c251feb5",
   "metadata": {},
   "source": [
    "LIMITATION"
   ]
  },
  {
   "cell_type": "markdown",
   "id": "89831e1b-3732-4988-8387-ffbf7a72d081",
   "metadata": {},
   "source": [
    "The limitations in this dataset are some null values in the city_tempearture field during the data collection, that could affect the final results."
   ]
  },
  {
   "cell_type": "code",
   "execution_count": null,
   "id": "d72eb337-bb45-4671-afb4-3b2f576d0259",
   "metadata": {},
   "outputs": [],
   "source": []
  }
 ],
 "metadata": {
  "kernelspec": {
   "display_name": "Python 3 (ipykernel)",
   "language": "python",
   "name": "python3"
  },
  "language_info": {
   "codemirror_mode": {
    "name": "ipython",
    "version": 3
   },
   "file_extension": ".py",
   "mimetype": "text/x-python",
   "name": "python",
   "nbconvert_exporter": "python",
   "pygments_lexer": "ipython3",
   "version": "3.8.3"
  }
 },
 "nbformat": 4,
 "nbformat_minor": 5
}
